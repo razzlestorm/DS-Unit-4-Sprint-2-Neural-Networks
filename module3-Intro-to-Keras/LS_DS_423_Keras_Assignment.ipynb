{
 "cells": [
  {
   "cell_type": "markdown",
   "metadata": {
    "colab_type": "text",
    "id": "pBQsZEJmubLs"
   },
   "source": [
    "<img align=\"left\" src=\"https://lever-client-logos.s3.amazonaws.com/864372b1-534c-480e-acd5-9711f850815c-1524247202159.png\" width=200>\n",
    "<br></br>\n",
    "\n",
    "# Neural Network Framework (Keras)\n",
    "\n",
    "## *Data Science Unit 4 Sprint 2 Assignmnet 3*\n",
    "\n",
    "## Use the Keras Library to build a Multi-Layer Perceptron Model on the Boston Housing dataset\n",
    "\n",
    "- The Boston Housing dataset comes with the Keras library so use Keras to import it into your notebook. \n",
    "- Normalize the data (all features should have roughly the same scale)\n",
    "- Import the type of model and layers that you will need from Keras.\n",
    "- Instantiate a model object and use `model.add()` to add layers to your model\n",
    "- Since this is a regression model you will have a single output node in the final layer.\n",
    "- Use activation functions that are appropriate for this task\n",
    "- Compile your model\n",
    "- Fit your model and report its accuracy in terms of Mean Squared Error\n",
    "- Use the history object that is returned from model.fit to make graphs of the model's loss or train/validation accuracies by epoch. \n",
    "- Run this same data through a linear regression model. Which achieves higher accuracy?\n",
    "- Do a little bit of feature engineering and see how that affects your neural network model. (you will need to change your model to accept more inputs)\n",
    "- After feature engineering, which model sees a greater accuracy boost due to the new features?"
   ]
  },
  {
   "cell_type": "code",
   "execution_count": 1,
   "metadata": {},
   "outputs": [
    {
     "name": "stderr",
     "output_type": "stream",
     "text": [
      "Using TensorFlow backend.\n"
     ]
    }
   ],
   "source": [
    "import tensorflow as tf\n",
    "from keras.models import Sequential\n",
    "from keras.layers import Dense, Conv2D, Dropout, Flatten, MaxPooling2D"
   ]
  },
  {
   "cell_type": "code",
   "execution_count": 13,
   "metadata": {},
   "outputs": [],
   "source": [
    "import pandas as pd\n",
    "from keras.wrappers.scikit_learn import KerasRegressor\n",
    "from sklearn.model_selection import cross_val_score, KFold\n",
    "from sklearn.preprocessing import StandardScaler\n",
    "from sklearn.pipeline import Pipeline"
   ]
  },
  {
   "cell_type": "code",
   "execution_count": 25,
   "metadata": {
    "colab": {},
    "colab_type": "code",
    "id": "8NLTAR87uYJ-"
   },
   "outputs": [
    {
     "name": "stdout",
     "output_type": "stream",
     "text": [
      "(404, 13)\n",
      "(404,)\n",
      "Standardized: -59.00 (33.61) MSE\n"
     ]
    }
   ],
   "source": [
    "from keras.datasets import boston_housing\n",
    "\n",
    "(boston_x_train, boston_y_train), (boston_x_test, boston_y_test) = boston_housing.load_data()\n",
    "#print(boston_x_train.shape)\n",
    "\n",
    "\n",
    "def baseline_model():\n",
    "        # Create model\n",
    "        model = Sequential()\n",
    "        model.add(Dense(13, input_dim=13, kernel_initializer='normal', activation='relu'))\n",
    "        model.add(Dense(1, kernel_initializer='normal'))\n",
    "        # Compile model\n",
    "        model.compile(loss='mean_squared_error', optimizer='adam')\n",
    "        return model\n",
    "\n",
    "pipeline = Pipeline([\n",
    "    ('scaler', StandardScaler()),\n",
    "    ('mlp', KerasRegressor(build_fn=baseline_model, epochs=10, batch_size=5, verbose=0))\n",
    "])\n",
    "\n",
    "kfold = KFold(n_splits=10)\n",
    "results = cross_val_score(pipeline, boston_x_train, boston_y_train, cv=kfold)\n",
    "print(\"Standardized: %.2f (%.2f) MSE\" % (results.mean(), results.std()))\n",
    "\n"
   ]
  },
  {
   "cell_type": "code",
   "execution_count": 22,
   "metadata": {},
   "outputs": [
    {
     "name": "stdout",
     "output_type": "stream",
     "text": [
      "Standardized: -31.98 (18.38) MSE\n"
     ]
    }
   ],
   "source": [
    "\n",
    "# define the model\n",
    "def larger_model():\n",
    "        # Create model\n",
    "        model = Sequential()\n",
    "        model.add(Dense(13, input_dim=13, kernel_initializer='normal', activation='relu'))\n",
    "        model.add(Dense(6, kernel_initializer='normal', activation='relu'))\n",
    "        model.add(Dense(1, kernel_initializer='normal'))\n",
    "        # Compile model\n",
    "        model.compile(loss='mean_squared_error', optimizer='adam')\n",
    "        return model\n",
    "    \n",
    "pipeline2 = Pipeline([\n",
    "    ('scaler', StandardScaler()),\n",
    "    ('mlp', KerasRegressor(build_fn=larger_model, epochs=10, batch_size=5, verbose=0))\n",
    "])\n",
    "\n",
    "results2 = cross_val_score(pipeline2, boston_x_train, boston_y_train, cv=kfold)\n",
    "print(\"Standardized: %.2f (%.2f) MSE\" % (results2.mean(), results2.std()))"
   ]
  },
  {
   "cell_type": "code",
   "execution_count": 23,
   "metadata": {},
   "outputs": [
    {
     "name": "stdout",
     "output_type": "stream",
     "text": [
      "Standardized: -45.91 (27.26) MSE\n"
     ]
    }
   ],
   "source": [
    "def wider_model():\n",
    "        # create model\n",
    "        model = Sequential()\n",
    "        model.add(Dense(20, input_dim=13, kernel_initializer='normal', activation='relu'))\n",
    "        model.add(Dense(1, kernel_initializer='normal'))\n",
    "        # Compile model\n",
    "        model.compile(loss='mean_squared_error', optimizer='adam')\n",
    "        return model\n",
    "    \n",
    "pipeline3 = Pipeline([\n",
    "    ('scaler', StandardScaler()),\n",
    "    ('mlp', KerasRegressor(build_fn=wider_model, epochs=10, batch_size=5, verbose=0))\n",
    "])\n",
    "\n",
    "results3 = cross_val_score(pipeline3, boston_x_train, boston_y_train, cv=kfold)\n",
    "print(\"Standardized: %.2f (%.2f) MSE\" % (results3.mean(), results3.std()))"
   ]
  },
  {
   "cell_type": "markdown",
   "metadata": {
    "colab_type": "text",
    "id": "SfcFnOONyuNm"
   },
   "source": [
    "## Use the Keras Library to build an image recognition network using the Fashion-MNIST dataset (also comes with keras)\n",
    "\n",
    "- Load and preprocess the image data similar to how we preprocessed the MNIST data in class.\n",
    "- Make sure to one-hot encode your category labels\n",
    "- Make sure to have your final layer have as many nodes as the number of classes that you want to predict.\n",
    "- Try different hyperparameters. What is the highest accuracy that you are able to achieve.\n",
    "- Use the history object that is returned from model.fit to make graphs of the model's loss or train/validation accuracies by epoch. \n",
    "- Remember that neural networks fall prey to randomness so you may need to run your model multiple times (or use Cross Validation) in order to tell if a change to a hyperparameter is truly producing better results."
   ]
  },
  {
   "cell_type": "code",
   "execution_count": 8,
   "metadata": {
    "colab": {},
    "colab_type": "code",
    "id": "szi6-IpuzaH1"
   },
   "outputs": [],
   "source": [
    "from keras.datasets import mnist\n",
    "\n",
    "(x_train, y_train), (x_test, y_test) = mnist.load_data()\n",
    "\n",
    "x_train = x_train.reshape(x_train.shape[0], 28, 28, 1)\n",
    "x_test = x_test.reshape(x_test.shape[0], 28, 28, 1)\n",
    "\n",
    "# Normalize Our Data\n",
    "x_train = x_train / 255\n",
    "x_test = x_test / 255\n",
    "\n",
    "model = Sequential()\n",
    "model.add(Conv2D(28, kernel_size=(3, 3), input_shape=(28, 28, 1)))\n",
    "model.add(MaxPooling2D(pool_size=(2, 2)))\n",
    "model.add(Flatten())\n",
    "model.add(Dense(123, activation=tf.nn.relu))\n",
    "model.add(Dropout(0.2))\n",
    "model.add(Dense(10, activation=tf.nn.softmax))"
   ]
  },
  {
   "cell_type": "code",
   "execution_count": 9,
   "metadata": {},
   "outputs": [
    {
     "name": "stdout",
     "output_type": "stream",
     "text": [
      "Train on 45000 samples, validate on 15000 samples\n",
      "Epoch 1/10\n",
      "45000/45000 [==============================] - 19s 431us/step - loss: 0.2383 - accuracy: 0.9286 - val_loss: 0.1117 - val_accuracy: 0.9669\n",
      "Epoch 2/10\n",
      "45000/45000 [==============================] - 20s 451us/step - loss: 0.0961 - accuracy: 0.9706 - val_loss: 0.0768 - val_accuracy: 0.9763\n",
      "Epoch 3/10\n",
      "45000/45000 [==============================] - 21s 465us/step - loss: 0.0656 - accuracy: 0.9794 - val_loss: 0.0735 - val_accuracy: 0.9774\n",
      "Epoch 4/10\n",
      "45000/45000 [==============================] - 21s 468us/step - loss: 0.0506 - accuracy: 0.9842 - val_loss: 0.0657 - val_accuracy: 0.9801\n",
      "Epoch 5/10\n",
      "45000/45000 [==============================] - 21s 472us/step - loss: 0.0389 - accuracy: 0.9871 - val_loss: 0.0704 - val_accuracy: 0.9813\n",
      "Epoch 6/10\n",
      "45000/45000 [==============================] - 22s 483us/step - loss: 0.0332 - accuracy: 0.9889 - val_loss: 0.0690 - val_accuracy: 0.9824\n",
      "Epoch 7/10\n",
      "45000/45000 [==============================] - 21s 474us/step - loss: 0.0276 - accuracy: 0.9905 - val_loss: 0.0731 - val_accuracy: 0.9814\n",
      "Epoch 8/10\n",
      "45000/45000 [==============================] - 22s 496us/step - loss: 0.0225 - accuracy: 0.9925 - val_loss: 0.0729 - val_accuracy: 0.9833\n",
      "Epoch 9/10\n",
      "45000/45000 [==============================] - 23s 507us/step - loss: 0.0217 - accuracy: 0.9929 - val_loss: 0.0760 - val_accuracy: 0.9819\n",
      "Epoch 10/10\n",
      "45000/45000 [==============================] - 23s 512us/step - loss: 0.0175 - accuracy: 0.9938 - val_loss: 0.0804 - val_accuracy: 0.9830\n"
     ]
    }
   ],
   "source": [
    "model.compile(optimizer='adam',\n",
    "             loss='sparse_categorical_crossentropy',\n",
    "             metrics=['accuracy'])\n",
    "fitted = model.fit(x=x_train, y=y_train, validation_split=0.25, epochs=10)"
   ]
  },
  {
   "cell_type": "code",
   "execution_count": 10,
   "metadata": {},
   "outputs": [
    {
     "name": "stdout",
     "output_type": "stream",
     "text": [
      "{'val_loss': [0.11166034662077824, 0.07684792409427464, 0.07350242418274283, 0.06565250193484438, 0.07039050953718834, 0.06901239204648882, 0.07305639990863468, 0.07285829382844822, 0.07595756794283201, 0.08037530310884371], 'val_accuracy': [0.966866672039032, 0.9762666821479797, 0.977400004863739, 0.9801333546638489, 0.981333315372467, 0.9824000000953674, 0.9814000129699707, 0.9833333492279053, 0.9818666577339172, 0.9829999804496765], 'loss': [0.23829147859811783, 0.096144923778375, 0.06556969604864717, 0.05063304536934528, 0.03886089789828079, 0.03323127315740825, 0.027627470567530125, 0.022523323484199744, 0.021714254678251586, 0.017478325408163558], 'accuracy': [0.92855555, 0.97062224, 0.9793778, 0.98417777, 0.9870667, 0.98888886, 0.9904889, 0.9925111, 0.99288887, 0.9937556]}\n"
     ]
    },
    {
     "data": {
      "image/png": "[encoded data removed]",
      "text/plain": [
       "<Figure size 432x288 with 1 Axes>"
      ]
     },
     "metadata": {
      "needs_background": "light"
     },
     "output_type": "display_data"
    }
   ],
   "source": [
    "import matplotlib.pyplot as plt\n",
    "import numpy\n",
    "\n",
    "print(fitted.history)\n",
    "\n",
    "plt.plot(fitted.history['accuracy'])\n",
    "plt.plot(fitted.history['val_accuracy'])\n",
    "plt.title('model accuracy')\n",
    "plt.ylabel('accuracy')\n",
    "plt.xlabel('epoch')\n",
    "plt.legend(['train', 'test'], loc='upper left')\n",
    "plt.show()"
   ]
  },
  {
   "cell_type": "code",
   "execution_count": 11,
   "metadata": {},
   "outputs": [
    {
     "data": {
      "image/png": "[encoded data removed]",
      "text/plain": [
       "<Figure size 432x288 with 1 Axes>"
      ]
     },
     "metadata": {
      "needs_background": "light"
     },
     "output_type": "display_data"
    }
   ],
   "source": [
    "plt.plot(fitted.history['loss'])\n",
    "plt.plot(fitted.history['val_loss'])\n",
    "plt.title('model loss')\n",
    "plt.ylabel('loss')\n",
    "plt.xlabel('epoch')\n",
    "plt.legend(['train', 'test'], loc='upper left')\n",
    "plt.show()"
   ]
  },
  {
   "cell_type": "markdown",
   "metadata": {
    "colab_type": "text",
    "id": "zv_3xNMjzdLI"
   },
   "source": [
    "## Stretch Goals:\n",
    "\n",
    "- Use Hyperparameter Tuning to make the accuracy of your models as high as possible. (error as low as possible)\n",
    "- Use Cross Validation techniques to get more consistent results with your model.\n",
    "- Use GridSearchCV to try different combinations of hyperparameters. \n",
    "- Start looking into other types of Keras layers for CNNs and RNNs maybe try and build a CNN model for fashion-MNIST to see how the results compare."
   ]
  }
 ],
 "metadata": {
  "colab": {
   "name": "LS_DS_433_Keras_Assignment.ipynb",
   "provenance": [],
   "version": "0.3.2"
  },
  "kernelspec": {
   "display_name": "Python 3",
   "language": "python",
   "name": "python3"
  },
  "language_info": {
   "codemirror_mode": {
    "name": "ipython",
    "version": 3
   },
   "file_extension": ".py",
   "mimetype": "text/x-python",
   "name": "python",
   "nbconvert_exporter": "python",
   "pygments_lexer": "ipython3",
   "version": "3.7.3"
  }
 },
 "nbformat": 4,
 "nbformat_minor": 4
}
